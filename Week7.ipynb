{
  "nbformat": 4,
  "nbformat_minor": 0,
  "metadata": {
    "colab": {
      "name": "Week7.ipynb",
      "provenance": [],
      "collapsed_sections": [],
      "authorship_tag": "ABX9TyML/AfsSeu2RJ5m4VT3eGxO",
      "include_colab_link": true
    },
    "kernelspec": {
      "name": "python3",
      "display_name": "Python 3"
    },
    "language_info": {
      "name": "python"
    }
  },
  "cells": [
    {
      "cell_type": "markdown",
      "metadata": {
        "id": "view-in-github",
        "colab_type": "text"
      },
      "source": [
        "<a href=\"https://colab.research.google.com/github/HarTigran/CLI/blob/main/Week7.ipynb\" target=\"_parent\"><img src=\"https://colab.research.google.com/assets/colab-badge.svg\" alt=\"Open In Colab\"/></a>"
      ]
    },
    {
      "cell_type": "markdown",
      "source": [
        "### Exploring CUBA"
      ],
      "metadata": {
        "id": "40MbkoCEZ5ns"
      }
    },
    {
      "cell_type": "code",
      "execution_count": 2,
      "metadata": {
        "colab": {
          "base_uri": "https://localhost:8080/"
        },
        "id": "mWf_cocPYECQ",
        "outputId": "4004afdf-dff6-466f-ed8e-ccdf9d5c4b99"
      },
      "outputs": [
        {
          "output_type": "stream",
          "name": "stdout",
          "text": [
            "Requirement already satisfied: numba in /usr/local/lib/python3.7/dist-packages (0.51.2)\n",
            "Requirement already satisfied: llvmlite<0.35,>=0.34.0.dev0 in /usr/local/lib/python3.7/dist-packages (from numba) (0.34.0)\n",
            "Requirement already satisfied: setuptools in /usr/local/lib/python3.7/dist-packages (from numba) (57.4.0)\n",
            "Requirement already satisfied: numpy>=1.15 in /usr/local/lib/python3.7/dist-packages (from numba) (1.21.5)\n"
          ]
        }
      ],
      "source": [
        "!pip install numba"
      ]
    },
    {
      "cell_type": "code",
      "source": [
        "from numba import jit\n",
        "import numpy as np\n",
        "import matplotlib.pyplot as plt\n",
        "import time"
      ],
      "metadata": {
        "id": "_tQii9KnBdn0"
      },
      "execution_count": 2,
      "outputs": []
    },
    {
      "cell_type": "markdown",
      "source": [
        "## Nested for loops with CPU"
      ],
      "metadata": {
        "id": "kxjU5O3ZaCs-"
      }
    },
    {
      "cell_type": "code",
      "source": [
        "def str(tiv):\n",
        "  a = [i for i in range(tiv)]\n",
        "  step = 0\n",
        "  for i in range(len(a)):\n",
        "    for j in range(len(a) - i):\n",
        "      a[i:i+j+1]\n",
        "      step = step +1\n",
        "  return step\n"
      ],
      "metadata": {
        "id": "CCnTNyaOHpoG"
      },
      "execution_count": 12,
      "outputs": []
    },
    {
      "cell_type": "markdown",
      "source": [
        "Nested for loops with GPU (NUMBA jit)"
      ],
      "metadata": {
        "id": "T72mFSG5aKBm"
      }
    },
    {
      "cell_type": "code",
      "source": [
        "@jit\n",
        "def str_jit(tiv):\n",
        "  a = [i for i in range(tiv)]\n",
        "  step = 0\n",
        "  for i in range(len(a)):\n",
        "    for j in range(len(a) - i):\n",
        "      a[i:i+j+1]\n",
        "      step = step +1\n",
        "  return step"
      ],
      "metadata": {
        "id": "v9NxLaMzaJBH"
      },
      "execution_count": null,
      "outputs": []
    },
    {
      "cell_type": "code",
      "source": [
        "start = time.time()\n",
        "\n",
        "iterations = str_jit(100000000)\n",
        "\n",
        "end = time.time()\n",
        "GPU = end-start\n",
        "print(f'Number of iterations {iterations}', GPU,' seconds')"
      ],
      "metadata": {
        "colab": {
          "base_uri": "https://localhost:8080/"
        },
        "id": "u8aDlgs1H-ks",
        "outputId": "49ea04e2-434c-4d65-ae8d-01f2ac21d46c"
      },
      "execution_count": 27,
      "outputs": [
        {
          "output_type": "stream",
          "name": "stdout",
          "text": [
            "Number of iterations 5000000050000000 3.6211934089660645  seconds\n"
          ]
        }
      ]
    },
    {
      "cell_type": "code",
      "source": [
        "start = time.time()\n",
        "\n",
        "iterations = str(2000)\n",
        "\n",
        "end = time.time()\n",
        "CPU = end-start\n",
        "print(f'Number of iterations {iterations}',CPU,' seconds')"
      ],
      "metadata": {
        "colab": {
          "base_uri": "https://localhost:8080/"
        },
        "id": "_VZI6YxHKCfQ",
        "outputId": "fa4cde0b-95aa-4a75-9734-359b01ea91df"
      },
      "execution_count": 28,
      "outputs": [
        {
          "output_type": "stream",
          "name": "stdout",
          "text": [
            "Number of iterations 2001000 3.9667282104492188  seconds\n"
          ]
        }
      ]
    },
    {
      "cell_type": "code",
      "source": [
        "times = str_jit(100000000)/str(2000)"
      ],
      "metadata": {
        "id": "5QH0uvK7WeKc"
      },
      "execution_count": 29,
      "outputs": []
    },
    {
      "cell_type": "code",
      "source": [
        "print('With NUMBA we were able to iterate {} billion times more in nested \"for loops\" compared to CPU within about 4 seconds'.format(round(times/1000000000,2)))"
      ],
      "metadata": {
        "colab": {
          "base_uri": "https://localhost:8080/"
        },
        "id": "5D_t75KBYW7o",
        "outputId": "f61bcb41-da91-4dd4-afc0-907ec50ac33a"
      },
      "execution_count": 34,
      "outputs": [
        {
          "output_type": "stream",
          "name": "stdout",
          "text": [
            "With NUMBA we were able to iterate 2.5 billion times more in nested \"for loops\" compared to CPU within about 4 seconds\n"
          ]
        }
      ]
    }
  ]
}